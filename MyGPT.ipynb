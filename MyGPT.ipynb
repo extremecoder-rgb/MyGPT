{
 "cells": [
  {
   "cell_type": "markdown",
   "id": "3acbbf66",
   "metadata": {},
   "source": [
    "I am building my own LLM so first I am building a tokenizer of my own "
   ]
  },
  {
   "cell_type": "markdown",
   "id": "05c0e579",
   "metadata": {},
   "source": [
    "STEP 1 - CREATE THE TOKENS"
   ]
  },
  {
   "cell_type": "code",
   "execution_count": 2,
   "id": "0d4f192a",
   "metadata": {},
   "outputs": [
    {
     "name": "stdout",
     "output_type": "stream",
     "text": [
      "439478\n",
      "M r. and Mrs. Dursley, of number four, Privet Drive, were proud to say that they were perfectly nor\n"
     ]
    }
   ],
   "source": [
    "with open(\"01 Harry Potter and the Sorcerers Stone.txt\", \"r\", encoding=\"Utf-8\") as f:\n",
    "    raw_text = f.read()\n",
    "\n",
    "print(len(raw_text)) #Total number of characters\n",
    "print(raw_text[:99])"
   ]
  },
  {
   "cell_type": "code",
   "execution_count": 3,
   "id": "573c7f0b",
   "metadata": {},
   "outputs": [
    {
     "name": "stdout",
     "output_type": "stream",
     "text": [
      "['M', 'r', '.', 'and', 'Mrs', '.', 'Dursley', ',', 'of', 'number', 'four', ',', 'Privet', 'Drive', ',', 'were', 'proud', 'to', 'say', 'that', 'they', 'were', 'perfectly', 'normal', ',', 'thank', 'you', 'very', 'much', '.']\n"
     ]
    }
   ],
   "source": [
    "import re  #library for splitting\n",
    "preprocessed = re.split(r'([,.:;?_!\"()\\']|--|\\s)', raw_text)\n",
    "preprocessed = [item.strip() for item in preprocessed if item.strip()]\n",
    "print(preprocessed[:30]) # Remember this is a list having all the tokens"
   ]
  },
  {
   "cell_type": "markdown",
   "id": "680d5641",
   "metadata": {},
   "source": [
    "STEP 2 - CREATE TOKEN ID FOR THIS TOKENS"
   ]
  },
  {
   "cell_type": "code",
   "execution_count": 4,
   "id": "3565b607",
   "metadata": {},
   "outputs": [
    {
     "name": "stdout",
     "output_type": "stream",
     "text": [
      "7572\n"
     ]
    }
   ],
   "source": [
    "#now we have to use vocabulary that is the sorted words\n",
    "words = sorted(set(preprocessed))\n",
    "vocab_size = len(words)\n",
    "print(vocab_size)"
   ]
  },
  {
   "cell_type": "code",
   "execution_count": 5,
   "id": "e6aeb2f5",
   "metadata": {},
   "outputs": [],
   "source": [
    "#Remember vocab is a mapping from tokens to tokenIDs\n",
    "vocab = {token:integer for integer, token in enumerate(words)}"
   ]
  },
  {
   "cell_type": "code",
   "execution_count": 6,
   "id": "eed5f7af",
   "metadata": {},
   "outputs": [
    {
     "name": "stdout",
     "output_type": "stream",
     "text": [
      "('!', 0)\n",
      "(\"'\", 1)\n",
      "('(', 2)\n",
      "(')', 3)\n",
      "('*', 4)\n",
      "(',', 5)\n",
      "('-', 6)\n",
      "('-bodied', 7)\n",
      "('.', 8)\n",
      "('1', 9)\n",
      "('1473', 10)\n",
      "('1637', 11)\n",
      "('17', 12)\n",
      "('1709', 13)\n",
      "('1945', 14)\n",
      "('2', 15)\n",
      "('3', 16)\n",
      "('31', 17)\n",
      "('382', 18)\n",
      "('4', 19)\n",
      "(':', 20)\n",
      "(';', 21)\n",
      "('?', 22)\n",
      "('A', 23)\n",
      "('ALBUS', 24)\n",
      "('ALLEY', 25)\n",
      "('ALLOWED', 26)\n",
      "('AM', 27)\n",
      "('AND', 28)\n",
      "('ANYTHING', 29)\n",
      "('ARE', 30)\n",
      "('AT', 31)\n",
      "('About', 32)\n",
      "('According', 33)\n",
      "('Adalbert', 34)\n",
      "('Add', 35)\n",
      "('Adrian', 36)\n",
      "('Africa', 37)\n",
      "('African', 38)\n",
      "('After', 39)\n",
      "('Against', 40)\n",
      "('Ages', 41)\n",
      "('Agrippa', 42)\n",
      "('Ah', 43)\n",
      "('Ahead', 44)\n",
      "('Alberic', 45)\n",
      "('Albus', 46)\n",
      "('Albus…”', 47)\n",
      "('Algie', 48)\n",
      "('Alicia', 49)\n",
      "('All', 50)\n"
     ]
    }
   ],
   "source": [
    "#enumerate - this I have used to assign integer values to the sorted words\n",
    "for i, item in enumerate(vocab.items()):\n",
    "    print(item)\n",
    "    if i>=50:\n",
    "        break"
   ]
  },
  {
   "cell_type": "markdown",
   "id": "81c31949",
   "metadata": {},
   "source": [
    "WE NEED TO REMEMBER TWO CONCEPTS i.e. ENCODER AND DECODER\n",
    "\n",
    "ENCODER -> it will take text as input and give token ID as output\n",
    "\n",
    "DECODER -> it will take token ID as input and will give text as output"
   ]
  },
  {
   "cell_type": "code",
   "execution_count": 7,
   "id": "bd5e32b5",
   "metadata": {},
   "outputs": [],
   "source": [
    "class SimpleTokenizer:\n",
    "    def __init__(self, vocab):\n",
    "        self.str_to_int = vocab\n",
    "        self.int_to_str = {i:s for s,i in vocab.items()}\n",
    "\n",
    "    def encode(self, text):\n",
    "        preprocessed = re.split(r'([,.:;?_!\"()\\']|--|\\s)', text)\n",
    "        preprocessed = [item.strip() for item in preprocessed if item.strip()]\n",
    "        ids = [self.str_to_int[s] for s in preprocessed]\n",
    "        return ids\n",
    "    \n",
    "    def decode(self, ids):\n",
    "        text = \" \".join([self.int_to_str[i] for i in ids])\n",
    "        text = re.sub(r'\\s+([,.?!\"()\\'])', r'\\1', text)\n",
    "        return text"
   ]
  },
  {
   "cell_type": "code",
   "execution_count": 8,
   "id": "8e76bf6b",
   "metadata": {},
   "outputs": [
    {
     "name": "stdout",
     "output_type": "stream",
     "text": [
      "[593, 6597, 4470, 6131, 2269, 4452, 6131, 5888, 6126, 3488, 4427]\n"
     ]
    }
   ],
   "source": [
    "#Now let us create an object of the above class and check if it is returning the ids or not\n",
    "tokenizer = SimpleTokenizer(vocab)\n",
    "text =  \"\"\"It was on the corner of the street that he noticed\"\"\"\n",
    "ids = tokenizer.encode(text)\n",
    "print(ids)"
   ]
  },
  {
   "cell_type": "code",
   "execution_count": 9,
   "id": "b714b33d",
   "metadata": {},
   "outputs": [
    {
     "data": {
      "text/plain": [
       "'It was on the corner of the street that he noticed'"
      ]
     },
     "execution_count": 9,
     "metadata": {},
     "output_type": "execute_result"
    }
   ],
   "source": [
    "tokenizer.decode(ids)"
   ]
  },
  {
   "cell_type": "markdown",
   "id": "a10f8e8f",
   "metadata": {},
   "source": [
    "So encoder and decoder is perfectly working as expected"
   ]
  },
  {
   "cell_type": "markdown",
   "id": "3f5ffb6d",
   "metadata": {},
   "source": [
    "NOW WE HAVE COMPLETED A SIMPLE TOKENIZER OF OUR OWN BUT THERE ARE SOME LIMITATIONS. WE CANNOT USE OTHER TEXT OTHER THAN THE ONE IN THE txt file WE USED MEANING IF I WRITE SOME TEXT THERE WILL BE ERROR SO WE NEED SPECIAL CONTEXT TOKENS WHICH IS ALSO USED BY GPT MODELS .\n",
    "\n",
    "<|endofText|> and <|unk|> -> unknown will be used"
   ]
  },
  {
   "cell_type": "code",
   "execution_count": 10,
   "id": "9ed60075",
   "metadata": {},
   "outputs": [
    {
     "data": {
      "text/plain": [
       "7574"
      ]
     },
     "execution_count": 10,
     "metadata": {},
     "output_type": "execute_result"
    }
   ],
   "source": [
    "tokens = sorted(list(set(preprocessed)))\n",
    "tokens.extend([\"<|endofText|>\", \"<|unk|>\"])# Here I used extend it will add 2 extra entries see the result it is 7574 but previously it was 7572\n",
    "vocab = {token:integer for integer, token in enumerate(tokens)}\n",
    "len(vocab.items())"
   ]
  },
  {
   "cell_type": "markdown",
   "id": "40cc2815",
   "metadata": {},
   "source": [
    "Let us check "
   ]
  },
  {
   "cell_type": "code",
   "execution_count": 11,
   "id": "94ef89f5",
   "metadata": {},
   "outputs": [
    {
     "name": "stdout",
     "output_type": "stream",
     "text": [
      "('…Oak', 7569)\n",
      "('…Then', 7570)\n",
      "('…”', 7571)\n",
      "('<|endofText|>', 7572)\n",
      "('<|unk|>', 7573)\n"
     ]
    }
   ],
   "source": [
    "for i, item in enumerate(list(vocab.items())[-5:]):\n",
    "    print(item)"
   ]
  },
  {
   "cell_type": "code",
   "execution_count": 12,
   "id": "7789a176",
   "metadata": {},
   "outputs": [],
   "source": [
    "class AdvancedTokenizer:\n",
    "    def __init__(self, vocab):\n",
    "        self.str_to_int = vocab\n",
    "        self.int_to_str = {i:s for s,i in vocab.items()}\n",
    "\n",
    "    def encode(self,text):\n",
    "        preprocessed = re.split(r'([,.:;?_!\"()\\']|--|\\s)', text)\n",
    "        preprocessed = [item.strip() for item in preprocessed if item.strip()]\n",
    "        preprocessed = [item if item in self.str_to_int else \"<|unk|>\" for item in preprocessed]\n",
    "        ids = [self.str_to_int[s] for s in preprocessed]\n",
    "        return ids\n",
    "    \n",
    "    def decode(self, ids):\n",
    "        text = \" \".join([self.int_to_str[i] for i in ids])\n",
    "        text = re.sub(r'\\s+([,.?!\"()\\'])', r'\\1', text)\n",
    "        return text"
   ]
  },
  {
   "cell_type": "markdown",
   "id": "7743c899",
   "metadata": {},
   "source": [
    "Now let us try again with some random text"
   ]
  },
  {
   "cell_type": "code",
   "execution_count": 13,
   "id": "649f76ef",
   "metadata": {},
   "outputs": [
    {
     "name": "stdout",
     "output_type": "stream",
     "text": [
      "Hello, my name is Subhranil Mondal <|endofText|> I am from Kolkata.\n"
     ]
    }
   ],
   "source": [
    "tokenizer = AdvancedTokenizer(vocab)\n",
    "\n",
    "text1 = \"Hello, my name is Subhranil Mondal\"\n",
    "text2 = \"I am from Kolkata.\"\n",
    "\n",
    "text = \" <|endofText|> \".join((text1,text2))\n",
    "print(text)"
   ]
  },
  {
   "cell_type": "code",
   "execution_count": 14,
   "id": "eecb8b0e",
   "metadata": {},
   "outputs": [
    {
     "data": {
      "text/plain": [
       "[7573, 5, 4318, 4332, 3758, 7573, 7573, 7572, 575, 1391, 3164, 7573, 8]"
      ]
     },
     "execution_count": 14,
     "metadata": {},
     "output_type": "execute_result"
    }
   ],
   "source": [
    "tokenizer.encode(text)"
   ]
  },
  {
   "cell_type": "code",
   "execution_count": 15,
   "id": "98eb0bf4",
   "metadata": {},
   "outputs": [
    {
     "data": {
      "text/plain": [
       "'<|unk|>, my name is <|unk|> <|unk|> <|endofText|> I am from <|unk|>.'"
      ]
     },
     "execution_count": 15,
     "metadata": {},
     "output_type": "execute_result"
    }
   ],
   "source": [
    "tokenizer.decode(tokenizer.encode(text))"
   ]
  },
  {
   "cell_type": "markdown",
   "id": "5ac3d5b3",
   "metadata": {},
   "source": [
    "See this is a word based tokenizer but GPT uses subword tokenizer so for that we need Byte Pair encoder"
   ]
  },
  {
   "cell_type": "code",
   "execution_count": 16,
   "id": "9ad115da",
   "metadata": {},
   "outputs": [
    {
     "name": "stdout",
     "output_type": "stream",
     "text": [
      "Requirement already satisfied: tiktoken in c:\\mygpt\\llm_tokenizer\\lib\\site-packages (0.11.0)\n",
      "Requirement already satisfied: regex>=2022.1.18 in c:\\mygpt\\llm_tokenizer\\lib\\site-packages (from tiktoken) (2025.9.18)\n",
      "Requirement already satisfied: requests>=2.26.0 in c:\\mygpt\\llm_tokenizer\\lib\\site-packages (from tiktoken) (2.32.5)\n",
      "Requirement already satisfied: charset_normalizer<4,>=2 in c:\\mygpt\\llm_tokenizer\\lib\\site-packages (from requests>=2.26.0->tiktoken) (3.4.3)\n",
      "Requirement already satisfied: idna<4,>=2.5 in c:\\mygpt\\llm_tokenizer\\lib\\site-packages (from requests>=2.26.0->tiktoken) (3.10)\n",
      "Requirement already satisfied: urllib3<3,>=1.21.1 in c:\\mygpt\\llm_tokenizer\\lib\\site-packages (from requests>=2.26.0->tiktoken) (2.5.0)\n",
      "Requirement already satisfied: certifi>=2017.4.17 in c:\\mygpt\\llm_tokenizer\\lib\\site-packages (from requests>=2.26.0->tiktoken) (2025.8.3)\n"
     ]
    },
    {
     "name": "stderr",
     "output_type": "stream",
     "text": [
      "\n",
      "[notice] A new release of pip is available: 24.0 -> 25.2\n",
      "[notice] To update, run: python.exe -m pip install --upgrade pip\n"
     ]
    }
   ],
   "source": [
    "#we will be using the BPE tokenizer which OpenAI uses\n",
    "! pip3 install tiktoken"
   ]
  },
  {
   "cell_type": "code",
   "execution_count": 17,
   "id": "dc29e1d5",
   "metadata": {},
   "outputs": [],
   "source": [
    "import importlib\n",
    "import tiktoken"
   ]
  },
  {
   "cell_type": "code",
   "execution_count": 18,
   "id": "a0c006a5",
   "metadata": {},
   "outputs": [],
   "source": [
    "tokenizer = tiktoken.get_encoding(\"gpt2\")"
   ]
  },
  {
   "cell_type": "code",
   "execution_count": 19,
   "id": "fcea8358",
   "metadata": {},
   "outputs": [
    {
     "name": "stdout",
     "output_type": "stream",
     "text": [
      "[15496, 11, 616, 1438, 318, 3834, 16848, 346, 27328, 282, 13, 314, 716, 422, 509, 13597, 1045, 13]\n"
     ]
    }
   ],
   "source": [
    "#Let us test\n",
    "\n",
    "text = \"Hello, my name is Subhranil Mondal. I am from Kolkata.\"\n",
    "integers = tokenizer.encode(text, allowed_special={\"<|endofText|>\"})\n",
    "print(integers)"
   ]
  },
  {
   "cell_type": "code",
   "execution_count": 20,
   "id": "43fdd490",
   "metadata": {},
   "outputs": [
    {
     "name": "stdout",
     "output_type": "stream",
     "text": [
      "Hello, my name is Subhranil Mondal. I am from Kolkata.\n"
     ]
    }
   ],
   "source": [
    "s = tokenizer.decode(integers)\n",
    "print(s)"
   ]
  },
  {
   "cell_type": "markdown",
   "id": "46533c8f",
   "metadata": {},
   "source": [
    "Therefore encoder and decoder is working pretty well"
   ]
  },
  {
   "cell_type": "markdown",
   "id": "4aa711ab",
   "metadata": {},
   "source": [
    "Now, we have to create Input-Target pairs\n",
    "But what is it?\n",
    "see we need to do self supervised learning kind of unsupervised. The data are not labeled here . LLM will be feed one word and it will predict next one This is what we gonna implement which the GPT does."
   ]
  },
  {
   "cell_type": "code",
   "execution_count": 21,
   "id": "5f9941da",
   "metadata": {},
   "outputs": [
    {
     "name": "stdout",
     "output_type": "stream",
     "text": [
      "124336\n"
     ]
    }
   ],
   "source": [
    "with open(\"01 Harry Potter and the Sorcerers Stone.txt\", \"r\", encoding=\"Utf-8\") as f:\n",
    "    raw_text = f.read()\n",
    "\n",
    "encoded_text = tokenizer.encode(raw_text)\n",
    "print(len(encoded_text))"
   ]
  },
  {
   "cell_type": "code",
   "execution_count": 22,
   "id": "7eafa68b",
   "metadata": {},
   "outputs": [],
   "source": [
    "sample = encoded_text[50:]"
   ]
  },
  {
   "cell_type": "code",
   "execution_count": 23,
   "id": "65bf5d7a",
   "metadata": {},
   "outputs": [
    {
     "name": "stdout",
     "output_type": "stream",
     "text": [
      "x: [11428, 11, 780, 484]\n",
      "y: [11, 780, 484, 655]\n"
     ]
    }
   ],
   "source": [
    "conSize = 4 #context size -> length of input sequence\n",
    "x = sample[:conSize]\n",
    "y = sample[1:conSize+1]\n",
    "print(f\"x: {x}\")\n",
    "print(f\"y: {y}\")"
   ]
  },
  {
   "cell_type": "code",
   "execution_count": 24,
   "id": "c77846c1",
   "metadata": {},
   "outputs": [
    {
     "name": "stdout",
     "output_type": "stream",
     "text": [
      "[11428] -> 11\n",
      "[11428, 11] -> 780\n",
      "[11428, 11, 780] -> 484\n",
      "[11428, 11, 780, 484] -> 655\n"
     ]
    }
   ],
   "source": [
    "for i in range(1, conSize+1):\n",
    "    context = sample[:i]\n",
    "    desired = sample[i]\n",
    "\n",
    "    print(context, \"->\", desired)"
   ]
  },
  {
   "cell_type": "markdown",
   "id": "fd311566",
   "metadata": {},
   "source": [
    "Now just decode it"
   ]
  },
  {
   "cell_type": "code",
   "execution_count": 25,
   "id": "ec7b11f1",
   "metadata": {},
   "outputs": [
    {
     "name": "stdout",
     "output_type": "stream",
     "text": [
      " mysterious -> ,\n",
      " mysterious, ->  because\n",
      " mysterious, because ->  they\n",
      " mysterious, because they ->  just\n"
     ]
    }
   ],
   "source": [
    "for i in range(1, conSize+1):\n",
    "    context = sample[:i]\n",
    "    desired = sample[i]\n",
    "\n",
    "    print(tokenizer.decode(context), \"->\", tokenizer.decode([desired]))"
   ]
  },
  {
   "cell_type": "markdown",
   "id": "8d0b53d3",
   "metadata": {},
   "source": [
    "so now we have to turn tokens into embeddings and implement a data loader as inputs and PyTorch Tensors as target like you can think about multidimensional arrays."
   ]
  },
  {
   "cell_type": "markdown",
   "id": "366e7dcd",
   "metadata": {},
   "source": [
    "STEP 3 - IMPLEMENT A DATALOADER(WE WILL BE USING PYTORCH)"
   ]
  },
  {
   "cell_type": "code",
   "execution_count": 26,
   "id": "9934607a",
   "metadata": {},
   "outputs": [
    {
     "name": "stdout",
     "output_type": "stream",
     "text": [
      "Requirement already satisfied: torch in c:\\mygpt\\llm_tokenizer\\lib\\site-packages (2.8.0)\n",
      "Requirement already satisfied: torchvision in c:\\mygpt\\llm_tokenizer\\lib\\site-packages (0.23.0)\n",
      "Requirement already satisfied: torchaudio in c:\\mygpt\\llm_tokenizer\\lib\\site-packages (2.8.0)\n",
      "Requirement already satisfied: filelock in c:\\mygpt\\llm_tokenizer\\lib\\site-packages (from torch) (3.19.1)\n",
      "Requirement already satisfied: typing-extensions>=4.10.0 in c:\\mygpt\\llm_tokenizer\\lib\\site-packages (from torch) (4.15.0)\n",
      "Requirement already satisfied: sympy>=1.13.3 in c:\\mygpt\\llm_tokenizer\\lib\\site-packages (from torch) (1.14.0)\n",
      "Requirement already satisfied: networkx in c:\\mygpt\\llm_tokenizer\\lib\\site-packages (from torch) (3.5)\n",
      "Requirement already satisfied: jinja2 in c:\\mygpt\\llm_tokenizer\\lib\\site-packages (from torch) (3.1.6)\n",
      "Requirement already satisfied: fsspec in c:\\mygpt\\llm_tokenizer\\lib\\site-packages (from torch) (2025.9.0)\n",
      "Requirement already satisfied: setuptools in c:\\mygpt\\llm_tokenizer\\lib\\site-packages (from torch) (80.9.0)\n",
      "Requirement already satisfied: numpy in c:\\mygpt\\llm_tokenizer\\lib\\site-packages (from torchvision) (2.3.3)\n",
      "Requirement already satisfied: pillow!=8.3.*,>=5.3.0 in c:\\mygpt\\llm_tokenizer\\lib\\site-packages (from torchvision) (11.3.0)\n",
      "Requirement already satisfied: mpmath<1.4,>=1.1.0 in c:\\mygpt\\llm_tokenizer\\lib\\site-packages (from sympy>=1.13.3->torch) (1.3.0)\n",
      "Requirement already satisfied: MarkupSafe>=2.0 in c:\\mygpt\\llm_tokenizer\\lib\\site-packages (from jinja2->torch) (3.0.2)\n"
     ]
    },
    {
     "name": "stderr",
     "output_type": "stream",
     "text": [
      "\n",
      "[notice] A new release of pip is available: 24.0 -> 25.2\n",
      "[notice] To update, run: python.exe -m pip install --upgrade pip\n"
     ]
    }
   ],
   "source": [
    "! pip3 install torch torchvision torchaudio"
   ]
  },
  {
   "cell_type": "code",
   "execution_count": 27,
   "id": "ffb6d82f",
   "metadata": {},
   "outputs": [],
   "source": [
    "import torch\n",
    "from torch.utils.data import Dataset, DataLoader\n",
    "class GPTDataset(Dataset):\n",
    "    def __init__(self, txt, tokenizer, max_length, stride):\n",
    "        self.input_ids = []\n",
    "        self.target_ids = []\n",
    "        # Step 1 - we will tokenize the entire text\n",
    "        token_ids = tokenizer.encode(txt,allowed_special={\"<|endofText|>\"})\n",
    "        # Step 2 - we will use sliding window to chunk the book into overlapping sequences\n",
    "        for i in range(0, len(token_ids)-max_length, stride):\n",
    "            input_chunk = token_ids[i:i+max_length]\n",
    "            target_chunk = token_ids[i+1:i+max_length+1]\n",
    "            self.input_ids.append(torch.tensor(input_chunk))\n",
    "            self.target_ids.append(torch.tensor(target_chunk))\n",
    "\n",
    "    # Step 3 - Then return the total no. of rows\n",
    "    def __len__(self):\n",
    "        return len(self.input_ids)\n",
    "    \n",
    "    # Step 4 - Return a single row from the datset\n",
    "    def __getitem__(self, idx):\n",
    "        return self.input_ids[idx], self.target_ids[idx]"
   ]
  },
  {
   "cell_type": "code",
   "execution_count": 28,
   "id": "3d59421a",
   "metadata": {},
   "outputs": [],
   "source": [
    "# Now we have to create the data loader\n",
    "def create_dataloader(txt, batch_size=4, max_length=256, stride=128, shuffle=True, drop_last=True, num_workers=0):\n",
    "    tokenizer = tiktoken.get_encoding(\"gpt2\")\n",
    "    dataset = GPTDataset(txt, tokenizer, max_length, stride)\n",
    "    dataloader = DataLoader(dataset, batch_size=batch_size, shuffle=shuffle, drop_last=drop_last, num_workers=num_workers)\n",
    "    return dataloader"
   ]
  },
  {
   "cell_type": "markdown",
   "id": "67aefa23",
   "metadata": {},
   "source": [
    "Now Let us Test"
   ]
  },
  {
   "cell_type": "code",
   "execution_count": 29,
   "id": "8359a2c0",
   "metadata": {},
   "outputs": [],
   "source": [
    "with open(\"01 Harry Potter and the Sorcerers Stone.txt\", \"r\", encoding=\"Utf-8\") as f:\n",
    "    raw_text = f.read()"
   ]
  },
  {
   "cell_type": "code",
   "execution_count": 30,
   "id": "298db16b",
   "metadata": {},
   "outputs": [
    {
     "name": "stdout",
     "output_type": "stream",
     "text": [
      "[tensor([[ 44, 374,  13, 290]]), tensor([[ 374,   13,  290, 9074]])]\n"
     ]
    }
   ],
   "source": [
    "# Now I am gonna convert dataloader into a python iterator to fetch the next entry\n",
    "\n",
    "import torch\n",
    "dataloader = create_dataloader(raw_text, batch_size=1, max_length=4, stride=1, shuffle=False)\n",
    "iter_data = iter(dataloader)\n",
    "first_batch = next(iter_data)\n",
    "print(first_batch)"
   ]
  },
  {
   "cell_type": "markdown",
   "id": "6f12bd7e",
   "metadata": {},
   "source": [
    "see as we used stride=1 so it will overlap so doing this will make the model overfit and noisy .Lets see if we use stride=4 and increase batch_size to 8"
   ]
  },
  {
   "cell_type": "code",
   "execution_count": 31,
   "id": "149690f4",
   "metadata": {},
   "outputs": [
    {
     "name": "stdout",
     "output_type": "stream",
     "text": [
      "\n",
      "Inputs:\n",
      " tensor([[   44,   374,    13,   290],\n",
      "        [ 9074,    13,   360,  1834],\n",
      "        [ 1636,    11,   286,  1271],\n",
      "        [ 1440,    11,  4389, 16809],\n",
      "        [ 9974,    11,   547,  6613],\n",
      "        [  284,   910,   326,   484],\n",
      "        [  547,  7138,  3487,    11],\n",
      "        [ 5875,   345,   845,   881]])\n",
      "\n",
      "Targets:\n",
      " tensor([[  374,    13,   290,  9074],\n",
      "        [   13,   360,  1834,  1636],\n",
      "        [   11,   286,  1271,  1440],\n",
      "        [   11,  4389, 16809,  9974],\n",
      "        [   11,   547,  6613,   284],\n",
      "        [  910,   326,   484,   547],\n",
      "        [ 7138,  3487,    11,  5875],\n",
      "        [  345,   845,   881,    13]])\n"
     ]
    }
   ],
   "source": [
    "dataloader = create_dataloader(raw_text, batch_size=8, max_length=4, stride=4, shuffle=False)\n",
    "iter_data = iter(dataloader)\n",
    "inputs, targets = next(iter_data)\n",
    "print(\"\\nInputs:\\n\", inputs)\n",
    "print(\"\\nTargets:\\n\", targets)"
   ]
  },
  {
   "cell_type": "markdown",
   "id": "9b823922",
   "metadata": {},
   "source": [
    "batch size = 8 means the input tensors are also 8 rows"
   ]
  },
  {
   "cell_type": "markdown",
   "id": "f29312b3",
   "metadata": {},
   "source": [
    "Now let us create token or vector embeddings"
   ]
  },
  {
   "cell_type": "code",
   "execution_count": 32,
   "id": "3888d6f0",
   "metadata": {},
   "outputs": [],
   "source": [
    "input_ids = torch.tensor([2,3,5,1])"
   ]
  },
  {
   "cell_type": "markdown",
   "id": "c6c0e95d",
   "metadata": {},
   "source": [
    "FOR SIMPLICITY WE WILL USE VOCAB SIZE 6"
   ]
  },
  {
   "cell_type": "code",
   "execution_count": 33,
   "id": "5e93b24a",
   "metadata": {},
   "outputs": [
    {
     "name": "stdout",
     "output_type": "stream",
     "text": [
      "Parameter containing:\n",
      "tensor([[ 0.3374, -0.1778, -0.1690],\n",
      "        [ 0.9178,  1.5810,  1.3010],\n",
      "        [ 1.2753, -0.2010, -0.1606],\n",
      "        [-0.4015,  0.9666, -1.1481],\n",
      "        [-1.1589,  0.3255, -0.6315],\n",
      "        [-2.8400, -0.7849, -1.4096]], requires_grad=True)\n",
      "tensor([[ 1.2753, -0.2010, -0.1606],\n",
      "        [-0.4015,  0.9666, -1.1481],\n",
      "        [-2.8400, -0.7849, -1.4096],\n",
      "        [ 0.9178,  1.5810,  1.3010]], grad_fn=<EmbeddingBackward0>)\n"
     ]
    }
   ],
   "source": [
    "vocab_size = 6\n",
    "output_dim = 3 # Output dimensions\n",
    "# Output will be a 6 X 3 matrix\n",
    "torch.manual_seed(123)\n",
    "embedding_layer = torch.nn.Embedding(vocab_size, output_dim)\n",
    "print(embedding_layer.weight)\n",
    "print(embedding_layer(input_ids))"
   ]
  },
  {
   "cell_type": "markdown",
   "id": "c4496c9f",
   "metadata": {},
   "source": [
    "Now see this is just a basic implementation of token embedding but this is not the right way. we meed to have the concept of positional embeddings -> absolute and relative. GPT or any other transfromer uses absolute embeddings"
   ]
  },
  {
   "cell_type": "code",
   "execution_count": 34,
   "id": "1ddd7671",
   "metadata": {},
   "outputs": [],
   "source": [
    "vocab_size = 50257 #Lets give the actual vocab_size for GPT2\n",
    "output_dim = 256 #Lets keep it 256\n",
    "token_embedding_layer = torch.nn.Embedding(vocab_size, output_dim)"
   ]
  },
  {
   "cell_type": "code",
   "execution_count": 35,
   "id": "df9e3ab6",
   "metadata": {},
   "outputs": [],
   "source": [
    "#Now let us create the data loader again\n",
    "max_length = 4\n",
    "dataloader = create_dataloader(raw_text, batch_size=8, max_length=max_length, stride=max_length, shuffle=False)\n",
    "data_iter = iter(dataloader)\n",
    "inputs, targets = next(data_iter)"
   ]
  },
  {
   "cell_type": "code",
   "execution_count": 36,
   "id": "cecb3ae9",
   "metadata": {},
   "outputs": [
    {
     "name": "stdout",
     "output_type": "stream",
     "text": [
      "\n",
      "Input IDs:\n",
      " tensor([[   44,   374,    13,   290],\n",
      "        [ 9074,    13,   360,  1834],\n",
      "        [ 1636,    11,   286,  1271],\n",
      "        [ 1440,    11,  4389, 16809],\n",
      "        [ 9974,    11,   547,  6613],\n",
      "        [  284,   910,   326,   484],\n",
      "        [  547,  7138,  3487,    11],\n",
      "        [ 5875,   345,   845,   881]])\n",
      "\n",
      "Target IDs:\n",
      " tensor([[  374,    13,   290,  9074],\n",
      "        [   13,   360,  1834,  1636],\n",
      "        [   11,   286,  1271,  1440],\n",
      "        [   11,  4389, 16809,  9974],\n",
      "        [   11,   547,  6613,   284],\n",
      "        [  910,   326,   484,   547],\n",
      "        [ 7138,  3487,    11,  5875],\n",
      "        [  345,   845,   881,    13]])\n",
      "\n",
      "Inputs shape: torch.Size([8, 4])\n"
     ]
    }
   ],
   "source": [
    "print(\"\\nInput IDs:\\n\", inputs)\n",
    "print(\"\\nTarget IDs:\\n\", targets)\n",
    "print(\"\\nInputs shape:\", inputs.shape) # 8 x 4 tensor"
   ]
  },
  {
   "cell_type": "markdown",
   "id": "a87375fa",
   "metadata": {},
   "source": [
    "Each token ID is now embedded as a 256- dimensional vector"
   ]
  },
  {
   "cell_type": "markdown",
   "id": "4b2250a7",
   "metadata": {},
   "source": [
    "Now let us create an embedding layer"
   ]
  },
  {
   "cell_type": "code",
   "execution_count": 37,
   "id": "32cb861e",
   "metadata": {},
   "outputs": [
    {
     "name": "stdout",
     "output_type": "stream",
     "text": [
      "torch.Size([8, 4, 256])\n"
     ]
    }
   ],
   "source": [
    "token_embeddings = token_embedding_layer(inputs)\n",
    "print(token_embeddings.shape)"
   ]
  },
  {
   "cell_type": "code",
   "execution_count": 38,
   "id": "5fd0f717",
   "metadata": {},
   "outputs": [],
   "source": [
    "context_length = max_length\n",
    "# no.of rows = context_length and no.of columns = output_dim\n",
    "pos_embedding_layer = torch.nn.Embedding(context_length, output_dim)"
   ]
  },
  {
   "cell_type": "code",
   "execution_count": 39,
   "id": "19d801bf",
   "metadata": {},
   "outputs": [
    {
     "name": "stdout",
     "output_type": "stream",
     "text": [
      "torch.Size([4, 256])\n"
     ]
    }
   ],
   "source": [
    "pos_embeddings = pos_embedding_layer(torch.arange(max_length))\n",
    "#Here torch.arange is creating a sequence of numbers from 0 to max_length-1\n",
    "print(pos_embeddings.shape)"
   ]
  },
  {
   "cell_type": "markdown",
   "id": "eb6d5d15",
   "metadata": {},
   "source": [
    "Now let us add the 4x256 dimensional tensor to each 4x256 token embeddings"
   ]
  },
  {
   "cell_type": "code",
   "execution_count": 40,
   "id": "433f220f",
   "metadata": {},
   "outputs": [
    {
     "name": "stdout",
     "output_type": "stream",
     "text": [
      "torch.Size([8, 4, 256])\n"
     ]
    }
   ],
   "source": [
    "input_embeddings = token_embeddings + pos_embeddings\n",
    "print(input_embeddings.shape)"
   ]
  },
  {
   "cell_type": "markdown",
   "id": "2b6d45f0",
   "metadata": {},
   "source": [
    "Now Let us Implement a Simplified Attention Mechanism"
   ]
  },
  {
   "cell_type": "code",
   "execution_count": 41,
   "id": "7fd87115",
   "metadata": {},
   "outputs": [],
   "source": [
    "import torch\n",
    "# we are choosing a small embedding dimension for now but it can be replicated for higher dimension space as well\n",
    "inputs = torch.tensor(\n",
    "  [[0.43, 0.15, 0.89], # Your     (x^1)\n",
    "   [0.55, 0.87, 0.66], # journey  (x^2)\n",
    "   [0.57, 0.85, 0.64], # starts   (x^3)\n",
    "   [0.22, 0.58, 0.33], # with     (x^4)\n",
    "   [0.77, 0.25, 0.10], # one      (x^5)\n",
    "   [0.05, 0.80, 0.55]] # step     (x^6)\n",
    ")"
   ]
  },
  {
   "cell_type": "markdown",
   "id": "489df7c6",
   "metadata": {},
   "source": [
    "Just showing the plotting diagram"
   ]
  },
  {
   "cell_type": "code",
   "execution_count": 42,
   "id": "3fae2433",
   "metadata": {},
   "outputs": [
    {
     "name": "stdout",
     "output_type": "stream",
     "text": [
      "Requirement already satisfied: matplotlib in c:\\mygpt\\llm_tokenizer\\lib\\site-packages (3.10.6)\n",
      "Requirement already satisfied: contourpy>=1.0.1 in c:\\mygpt\\llm_tokenizer\\lib\\site-packages (from matplotlib) (1.3.3)\n",
      "Requirement already satisfied: cycler>=0.10 in c:\\mygpt\\llm_tokenizer\\lib\\site-packages (from matplotlib) (0.12.1)\n",
      "Requirement already satisfied: fonttools>=4.22.0 in c:\\mygpt\\llm_tokenizer\\lib\\site-packages (from matplotlib) (4.60.0)\n",
      "Requirement already satisfied: kiwisolver>=1.3.1 in c:\\mygpt\\llm_tokenizer\\lib\\site-packages (from matplotlib) (1.4.9)\n",
      "Requirement already satisfied: numpy>=1.23 in c:\\mygpt\\llm_tokenizer\\lib\\site-packages (from matplotlib) (2.3.3)\n",
      "Requirement already satisfied: packaging>=20.0 in c:\\mygpt\\llm_tokenizer\\lib\\site-packages (from matplotlib) (25.0)\n",
      "Requirement already satisfied: pillow>=8 in c:\\mygpt\\llm_tokenizer\\lib\\site-packages (from matplotlib) (11.3.0)\n",
      "Requirement already satisfied: pyparsing>=2.3.1 in c:\\mygpt\\llm_tokenizer\\lib\\site-packages (from matplotlib) (3.2.5)\n",
      "Requirement already satisfied: python-dateutil>=2.7 in c:\\mygpt\\llm_tokenizer\\lib\\site-packages (from matplotlib) (2.9.0.post0)\n",
      "Requirement already satisfied: six>=1.5 in c:\\mygpt\\llm_tokenizer\\lib\\site-packages (from python-dateutil>=2.7->matplotlib) (1.17.0)\n"
     ]
    },
    {
     "name": "stderr",
     "output_type": "stream",
     "text": [
      "\n",
      "[notice] A new release of pip is available: 24.0 -> 25.2\n",
      "[notice] To update, run: python.exe -m pip install --upgrade pip\n"
     ]
    }
   ],
   "source": [
    "! pip3 install matplotlib "
   ]
  },
  {
   "cell_type": "code",
   "execution_count": 43,
   "id": "cda325b6",
   "metadata": {},
   "outputs": [
    {
     "data": {
      "image/png": "[encoded data removed]",
      "text/plain": [
       "<Figure size 640x480 with 1 Axes>"
      ]
     },
     "metadata": {},
     "output_type": "display_data"
    }
   ],
   "source": [
    "import matplotlib.pyplot as plt\n",
    "from mpl_toolkits.mplot3d import Axes3D\n",
    "\n",
    "# Corresponding words\n",
    "words = ['Your', 'journey', 'starts', 'with', 'one', 'step']\n",
    "\n",
    "# Extract x, y, z coordinates\n",
    "x_coords = inputs[:, 0].numpy()\n",
    "y_coords = inputs[:, 1].numpy()\n",
    "z_coords = inputs[:, 2].numpy()\n",
    "\n",
    "# Create 3D plot\n",
    "fig = plt.figure()\n",
    "ax = fig.add_subplot(111, projection='3d')\n",
    "\n",
    "# Plot each point and annotate with corresponding word\n",
    "for x, y, z, word in zip(x_coords, y_coords, z_coords, words):\n",
    "    ax.scatter(x, y, z)\n",
    "    ax.text(x, y, z, word, fontsize=10)\n",
    "\n",
    "# Set labels for axes\n",
    "ax.set_xlabel('X')\n",
    "ax.set_ylabel('Y')\n",
    "ax.set_zlabel('Z')\n",
    "\n",
    "plt.title('3D Plot of Word Embeddings')\n",
    "plt.show()"
   ]
  },
  {
   "cell_type": "code",
   "execution_count": 44,
   "id": "6d2410e0",
   "metadata": {},
   "outputs": [
    {
     "data": {
      "image/png": "[encoded data removed]",
      "text/plain": [
       "<Figure size 640x480 with 1 Axes>"
      ]
     },
     "metadata": {},
     "output_type": "display_data"
    }
   ],
   "source": [
    "# Create 3D plot with vectors from origin to each point, using different colors\n",
    "fig = plt.figure()\n",
    "ax = fig.add_subplot(111, projection='3d')\n",
    "\n",
    "# Define a list of colors for the vectors\n",
    "colors = ['r', 'g', 'b', 'c', 'm', 'y']\n",
    "\n",
    "# Plot each vector with a different color and annotate with the corresponding word\n",
    "for (x, y, z, word, color) in zip(x_coords, y_coords, z_coords, words, colors):\n",
    "    # Draw vector from origin to the point (x, y, z) with specified color and smaller arrow length ratio\n",
    "    ax.quiver(0, 0, 0, x, y, z, color=color, arrow_length_ratio=0.05)\n",
    "    ax.text(x, y, z, word, fontsize=10, color=color)\n",
    "\n",
    "# Set labels for axes\n",
    "ax.set_xlabel('X')\n",
    "ax.set_ylabel('Y')\n",
    "ax.set_zlabel('Z')\n",
    "\n",
    "# Set plot limits to keep arrows within the plot boundaries\n",
    "ax.set_xlim([0, 1])\n",
    "ax.set_ylim([0, 1])\n",
    "ax.set_zlim([0, 1])\n",
    "\n",
    "plt.title('3D Plot of Word Embeddings with Colored Vectors')\n",
    "plt.show()\n"
   ]
  },
  {
   "cell_type": "code",
   "execution_count": 45,
   "id": "4c908438",
   "metadata": {},
   "outputs": [
    {
     "name": "stdout",
     "output_type": "stream",
     "text": [
      "tensor([0.9544, 1.4950, 1.4754, 0.8434, 0.7070, 1.0865])\n"
     ]
    }
   ],
   "source": [
    "query = inputs[1] #2nd token \"journey\"\n",
    "attn_scores_2 = torch.empty(inputs.shape[0])\n",
    "for i, x in enumerate(inputs):\n",
    "    attn_scores_2[i] = torch.dot(x, query) # Taking dot product of each word vector with the query vector\n",
    "\n",
    "print(attn_scores_2)"
   ]
  },
  {
   "cell_type": "markdown",
   "id": "80444d56",
   "metadata": {},
   "source": [
    "Now we will implement Normalization to make the LLM stabe"
   ]
  },
  {
   "cell_type": "code",
   "execution_count": 46,
   "id": "ed7fcff8",
   "metadata": {},
   "outputs": [
    {
     "name": "stdout",
     "output_type": "stream",
     "text": [
      "tensor([0.1455, 0.2278, 0.2249, 0.1285, 0.1077, 0.1656])\n",
      "sum: tensor(1.0000)\n"
     ]
    }
   ],
   "source": [
    "final_tensor = attn_scores_2 / attn_scores_2.sum()\n",
    "print(final_tensor)\n",
    "print(\"sum:\", final_tensor.sum())"
   ]
  },
  {
   "cell_type": "markdown",
   "id": "252e0012",
   "metadata": {},
   "source": [
    "The above approach is not that good so we must use softmax function instead (pytorch)\n",
    "\n",
    "[e^(x1-max)/sum , e^(x2-max)/sum ,e^(x3-max)/sum  , ...]  \n",
    "\n",
    "=> [e^(x1-max) + e^(x2-max) + e^(x3-max)+ ...]"
   ]
  },
  {
   "cell_type": "code",
   "execution_count": 47,
   "id": "1f4abae5",
   "metadata": {},
   "outputs": [
    {
     "name": "stdout",
     "output_type": "stream",
     "text": [
      "tensor([0.1385, 0.2379, 0.2333, 0.1240, 0.1082, 0.1581])\n",
      "sum of weights: tensor(1.)\n"
     ]
    }
   ],
   "source": [
    "weights = torch.softmax(attn_scores_2, dim=0)\n",
    "print(weights)\n",
    "print(\"sum of weights:\", weights.sum())"
   ]
  },
  {
   "cell_type": "markdown",
   "id": "3e39307f",
   "metadata": {},
   "source": [
    "Now we need to calculate the context vector which is the enriched embedding vector of journey here as it is query now see this context vector is summation of all other vectors as well ."
   ]
  },
  {
   "cell_type": "code",
   "execution_count": 48,
   "id": "7787748a",
   "metadata": {},
   "outputs": [
    {
     "name": "stdout",
     "output_type": "stream",
     "text": [
      "tensor([0.4419, 0.6515, 0.5683])\n"
     ]
    }
   ],
   "source": [
    "query = inputs[1]\n",
    "context_vector_2 = torch.zeros(query.shape)\n",
    "for i, x in enumerate(inputs):\n",
    "    context_vector_2 += weights[i] * x\n",
    "\n",
    "print(context_vector_2)"
   ]
  },
  {
   "cell_type": "markdown",
   "id": "2a31d2d0",
   "metadata": {},
   "source": [
    "Now let us see visually"
   ]
  },
  {
   "cell_type": "code",
   "execution_count": 49,
   "id": "f6ce270a",
   "metadata": {},
   "outputs": [
    {
     "data": {
      "image/png": "[encoded data removed]",
      "text/plain": [
       "<Figure size 640x480 with 1 Axes>"
      ]
     },
     "metadata": {},
     "output_type": "display_data"
    },
    {
     "data": {
      "image/png": "[encoded data removed]",
      "text/plain": [
       "<Figure size 640x480 with 1 Axes>"
      ]
     },
     "metadata": {},
     "output_type": "display_data"
    }
   ],
   "source": [
    "import matplotlib.pyplot as plt\n",
    "from mpl_toolkits.mplot3d import Axes3D\n",
    "\n",
    "inputs = torch.tensor(\n",
    "  [[0.43, 0.15, 0.89], # Your     (x^1)\n",
    "   [0.55, 0.87, 0.66], # journey  (x^2)\n",
    "   [0.57, 0.85, 0.64], # starts   (x^3)\n",
    "   [0.22, 0.58, 0.33], # with     (x^4)\n",
    "   [0.77, 0.25, 0.10], # one      (x^5)\n",
    "   [0.05, 0.80, 0.55], # step     (x^6)\n",
    "   [0.4419, 0.6515, 0.5683]]\n",
    ")\n",
    "\n",
    "# Corresponding words\n",
    "words = ['Your', 'journey', 'starts', 'with', 'one', 'step', 'journey-context']\n",
    "\n",
    "# Extract x, y, z coordinates\n",
    "x_coords = inputs[:, 0].numpy()\n",
    "y_coords = inputs[:, 1].numpy()\n",
    "z_coords = inputs[:, 2].numpy()\n",
    "\n",
    "# Create 3D plot\n",
    "fig = plt.figure()\n",
    "ax = fig.add_subplot(111, projection='3d')\n",
    "\n",
    "# Plot each point and annotate with corresponding word\n",
    "for x, y, z, word in zip(x_coords, y_coords, z_coords, words):\n",
    "    ax.scatter(x, y, z)\n",
    "    ax.text(x, y, z, word, fontsize=10)\n",
    "\n",
    "# Set labels for axes\n",
    "ax.set_xlabel('X')\n",
    "ax.set_ylabel('Y')\n",
    "ax.set_zlabel('Z')\n",
    "\n",
    "plt.title('3D Plot of Word Embeddings')\n",
    "plt.show()\n",
    "\n",
    "# Create 3D plot with vectors from origin to each point, using different colors\n",
    "fig = plt.figure()\n",
    "ax = fig.add_subplot(111, projection='3d')\n",
    "\n",
    "# Define a list of colors for the vectors\n",
    "colors = ['r', 'g', 'b', 'c', 'm', 'y', 'r']\n",
    "\n",
    "# Plot each vector with a different color and annotate with the corresponding word\n",
    "for (x, y, z, word, color) in zip(x_coords, y_coords, z_coords, words, colors):\n",
    "    # Draw vector from origin to the point (x, y, z) with specified color and smaller arrow length ratio\n",
    "    ax.quiver(0, 0, 0, x, y, z, color=color, arrow_length_ratio=0.05)\n",
    "    ax.text(x, y, z, word, fontsize=10, color=color)\n",
    "\n",
    "# Set labels for axes\n",
    "ax.set_xlabel('X')\n",
    "ax.set_ylabel('Y')\n",
    "ax.set_zlabel('Z')\n",
    "\n",
    "# Set plot limits to keep arrows within the plot boundaries\n",
    "ax.set_xlim([0, 1])\n",
    "ax.set_ylim([0, 1])\n",
    "ax.set_zlim([0, 1])\n",
    "\n",
    "plt.title('3D Plot of Word Embeddings with Colored Vectors')\n",
    "plt.show()"
   ]
  },
  {
   "cell_type": "markdown",
   "id": "0e33222a",
   "metadata": {},
   "source": [
    "Now let us calculate attention weights and context vectors for all inputs"
   ]
  },
  {
   "cell_type": "code",
   "execution_count": 50,
   "id": "c4b07692",
   "metadata": {},
   "outputs": [
    {
     "name": "stdout",
     "output_type": "stream",
     "text": [
      "tensor([[0.9995, 0.9544, 0.9422, 0.4753, 0.4576, 0.6310, 0.7935],\n",
      "        [0.9544, 1.4950, 1.4754, 0.8434, 0.7070, 1.0865, 1.1849],\n",
      "        [0.9422, 1.4754, 1.4570, 0.8296, 0.7154, 1.0605, 1.1694],\n",
      "        [0.4753, 0.8434, 0.8296, 0.4937, 0.3474, 0.6565, 0.6626],\n",
      "        [0.4576, 0.7070, 0.7154, 0.3474, 0.6654, 0.2935, 0.5600],\n",
      "        [0.6310, 1.0865, 1.0605, 0.6565, 0.2935, 0.9450, 0.8559],\n",
      "        [0.7935, 1.1849, 1.1694, 0.6626, 0.5600, 0.8559, 0.9427]])\n"
     ]
    }
   ],
   "source": [
    "# I have harcoded this stuff let us do it like this \n",
    "n = len(inputs)\n",
    "attn_scores = torch.empty(n,n)\n",
    "for i, x in enumerate(inputs):\n",
    "    for j, y in enumerate(inputs):\n",
    "        attn_scores[i,j] = torch.dot(x,y)\n",
    "\n",
    "print(attn_scores)"
   ]
  },
  {
   "cell_type": "code",
   "execution_count": 51,
   "id": "2da7da87",
   "metadata": {},
   "outputs": [
    {
     "name": "stdout",
     "output_type": "stream",
     "text": [
      "tensor([[0.1792, 0.1713, 0.1692, 0.1061, 0.1042, 0.1240, 0.1459],\n",
      "        [0.1180, 0.2026, 0.1986, 0.1056, 0.0921, 0.1346, 0.1486],\n",
      "        [0.1184, 0.2017, 0.1981, 0.1058, 0.0943, 0.1332, 0.1485],\n",
      "        [0.1223, 0.1768, 0.1744, 0.1246, 0.1077, 0.1467, 0.1476],\n",
      "        [0.1305, 0.1675, 0.1689, 0.1169, 0.1607, 0.1108, 0.1446],\n",
      "        [0.1180, 0.1861, 0.1813, 0.1211, 0.0842, 0.1615, 0.1478],\n",
      "        [0.1277, 0.1889, 0.1860, 0.1121, 0.1011, 0.1359, 0.1483]])\n"
     ]
    }
   ],
   "source": [
    "attn_weights = torch.softmax(attn_scores, dim=1)\n",
    "print(attn_weights)"
   ]
  },
  {
   "cell_type": "code",
   "execution_count": 52,
   "id": "b472af06",
   "metadata": {},
   "outputs": [
    {
     "name": "stdout",
     "output_type": "stream",
     "text": [
      "tensor([[0.4420, 0.6016, 0.5774],\n",
      "        [0.4419, 0.6515, 0.5683],\n",
      "        [0.4429, 0.6499, 0.5673],\n",
      "        [0.4321, 0.6330, 0.5536],\n",
      "        [0.4635, 0.5997, 0.5326],\n",
      "        [0.4213, 0.6505, 0.5651],\n",
      "        [0.4397, 0.6372, 0.5635]])\n"
     ]
    }
   ],
   "source": [
    "context_vectors = attn_weights @ inputs\n",
    "print(context_vectors)"
   ]
  },
  {
   "cell_type": "markdown",
   "id": "a5e6f133",
   "metadata": {},
   "source": [
    "Now I wil implement self-attention mechanism previously we did only a simple attention mechanism.\n",
    "\n",
    "for this we need to dicide the input matrix into thre trainable weight matrices one for query, one for key and another for value."
   ]
  },
  {
   "cell_type": "code",
   "execution_count": 53,
   "id": "75a813ff",
   "metadata": {},
   "outputs": [],
   "source": [
    "import torch\n",
    "inputs = torch.tensor(\n",
    "  [[0.43, 0.15, 0.89], # Your     (x^1)\n",
    "   [0.55, 0.87, 0.66], # journey  (x^2)\n",
    "   [0.57, 0.85, 0.64], # starts   (x^3)\n",
    "   [0.22, 0.58, 0.33], # with     (x^4)\n",
    "   [0.77, 0.25, 0.10], # one      (x^5)\n",
    "   [0.05, 0.80, 0.55]] # step     (x^6)\n",
    ")"
   ]
  },
  {
   "cell_type": "code",
   "execution_count": 54,
   "id": "01009e22",
   "metadata": {},
   "outputs": [],
   "source": [
    "x_2 = inputs[1] #second input element\n",
    "d_in = inputs.shape[1] #input embedding size, d=3\n",
    "d_out = 2 #output embedding size, d_out = 2"
   ]
  },
  {
   "cell_type": "code",
   "execution_count": 55,
   "id": "b97d28a2",
   "metadata": {},
   "outputs": [],
   "source": [
    "#Let us initialize the three weight matrices Wq, Wk, Wv\n",
    "torch.manual_seed(123)\n",
    "W_query = torch.nn.Parameter(torch.rand(d_in, d_out), requires_grad=False)\n",
    "W_key = torch.nn.Parameter(torch.rand(d_in, d_out), requires_grad=False)\n",
    "W_value = torch.nn.Parameter(torch.rand(d_in, d_out), requires_grad=False)"
   ]
  },
  {
   "cell_type": "code",
   "execution_count": 56,
   "id": "588d1052",
   "metadata": {},
   "outputs": [
    {
     "name": "stdout",
     "output_type": "stream",
     "text": [
      "W_query:\n",
      " Parameter containing:\n",
      "tensor([[0.2961, 0.5166],\n",
      "        [0.2517, 0.6886],\n",
      "        [0.0740, 0.8665]])\n"
     ]
    }
   ],
   "source": [
    "print(\"W_query:\\n\", W_query)"
   ]
  },
  {
   "cell_type": "code",
   "execution_count": 57,
   "id": "498be439",
   "metadata": {},
   "outputs": [
    {
     "name": "stdout",
     "output_type": "stream",
     "text": [
      "Parameter containing:\n",
      "tensor([[0.1366, 0.1025],\n",
      "        [0.1841, 0.7264],\n",
      "        [0.3153, 0.6871]])\n"
     ]
    }
   ],
   "source": [
    "print(W_key)"
   ]
  },
  {
   "cell_type": "code",
   "execution_count": 58,
   "id": "0a9bd5e5",
   "metadata": {},
   "outputs": [
    {
     "name": "stdout",
     "output_type": "stream",
     "text": [
      "Parameter containing:\n",
      "tensor([[0.0756, 0.1966],\n",
      "        [0.3164, 0.4017],\n",
      "        [0.1186, 0.8274]])\n"
     ]
    }
   ],
   "source": [
    "print(W_value)"
   ]
  },
  {
   "cell_type": "markdown",
   "id": "be964742",
   "metadata": {},
   "source": [
    "now we just need to multiply the input vectors with these weight matrices to get the query, key and value vectors"
   ]
  },
  {
   "cell_type": "code",
   "execution_count": 59,
   "id": "66cd52e7",
   "metadata": {},
   "outputs": [
    {
     "name": "stdout",
     "output_type": "stream",
     "text": [
      "query_2: tensor([0.4306, 1.4551])\n"
     ]
    }
   ],
   "source": [
    "#But first let us compute the query, key and value vectors for the second input element\n",
    "query_2 = x_2 @ W_query\n",
    "key_2 = x_2 @ W_key\n",
    "value_2 = x_2 @ W_value\n",
    "print(\"query_2:\", query_2)  # results in a 2D vector"
   ]
  },
  {
   "cell_type": "code",
   "execution_count": 60,
   "id": "881f0bfd",
   "metadata": {},
   "outputs": [
    {
     "name": "stdout",
     "output_type": "stream",
     "text": [
      "torch.Size([6, 2])\n",
      "torch.Size([6, 2])\n",
      "torch.Size([6, 2])\n"
     ]
    }
   ],
   "source": [
    "keys = inputs @ W_key\n",
    "values = inputs @ W_value\n",
    "queries = inputs @ W_query\n",
    "print(keys.shape)\n",
    "print(values.shape)\n",
    "print(queries.shape)"
   ]
  },
  {
   "cell_type": "markdown",
   "id": "a8a821a2",
   "metadata": {},
   "source": [
    "Now we have successfully projected the 6 input tokens from a 3D onto a 2D embedding space"
   ]
  },
  {
   "cell_type": "markdown",
   "id": "66babcd8",
   "metadata": {},
   "source": [
    "Now let us calculate the attention scores"
   ]
  },
  {
   "cell_type": "code",
   "execution_count": 61,
   "id": "81354e1b",
   "metadata": {},
   "outputs": [
    {
     "name": "stdout",
     "output_type": "stream",
     "text": [
      "tensor(1.8524)\n"
     ]
    }
   ],
   "source": [
    "keys_2 = keys[1] # for the second input element\n",
    "attn_scores_22 = query_2.dot(keys_2)\n",
    "print(attn_scores_22)"
   ]
  },
  {
   "cell_type": "code",
   "execution_count": 62,
   "id": "47566081",
   "metadata": {},
   "outputs": [
    {
     "name": "stdout",
     "output_type": "stream",
     "text": [
      "tensor([1.2705, 1.8524, 1.8111, 1.0795, 0.5577, 1.5440])\n"
     ]
    }
   ],
   "source": [
    "attn_scores_2 = query_2 @ keys.T  # query_2 is 1 X 2 and keys.T is 2 X 6 so the result will be 1 X 6\n",
    "print(attn_scores_2)"
   ]
  },
  {
   "cell_type": "markdown",
   "id": "b8b6bade",
   "metadata": {},
   "source": [
    "Now let us do it for all queries"
   ]
  },
  {
   "cell_type": "code",
   "execution_count": 63,
   "id": "fc5656b7",
   "metadata": {},
   "outputs": [
    {
     "name": "stdout",
     "output_type": "stream",
     "text": [
      "tensor([[0.9231, 1.3545, 1.3241, 0.7910, 0.4032, 1.1330],\n",
      "        [1.2705, 1.8524, 1.8111, 1.0795, 0.5577, 1.5440],\n",
      "        [1.2544, 1.8284, 1.7877, 1.0654, 0.5508, 1.5238],\n",
      "        [0.6973, 1.0167, 0.9941, 0.5925, 0.3061, 0.8475],\n",
      "        [0.6114, 0.8819, 0.8626, 0.5121, 0.2707, 0.7307],\n",
      "        [0.8995, 1.3165, 1.2871, 0.7682, 0.3937, 1.0996]])\n"
     ]
    }
   ],
   "source": [
    "attn_scores = queries @ keys.T\n",
    "print(attn_scores)"
   ]
  },
  {
   "cell_type": "markdown",
   "id": "f1f3ce53",
   "metadata": {},
   "source": [
    "Let us scale the attention scores by dividing them by the sq.root of the keys_dimension"
   ]
  },
  {
   "cell_type": "code",
   "execution_count": 64,
   "id": "c5fc606e",
   "metadata": {},
   "outputs": [
    {
     "name": "stdout",
     "output_type": "stream",
     "text": [
      "tensor([0.1500, 0.2264, 0.2199, 0.1311, 0.0906, 0.1820])\n",
      "2\n"
     ]
    }
   ],
   "source": [
    "d_k = keys.shape[-1]\n",
    "attn_weights_2 = torch.softmax(attn_scores_2 / (d_k**0.5), dim=-1)\n",
    "print(attn_weights_2)\n",
    "print(d_k)"
   ]
  },
  {
   "cell_type": "markdown",
   "id": "8c4772c9",
   "metadata": {},
   "source": [
    "Now we have to calculate the final context vector\n",
    "context_vec = attention_weights * values"
   ]
  },
  {
   "cell_type": "code",
   "execution_count": 65,
   "id": "ac218f93",
   "metadata": {},
   "outputs": [],
   "source": [
    "import torch.nn as nn\n",
    "class SelfAttention(nn.Module):\n",
    "    def __init__(self, d_in, d_out):\n",
    "        super().__init__()\n",
    "        self.W_query = nn.Parameter(torch.rand(d_in, d_out))\n",
    "        self.W_key = nn.Parameter(torch.rand(d_in, d_out))\n",
    "        self.W_value = nn.Parameter(torch.rand(d_in, d_out))\n",
    "\n",
    "    def forward(self, x):\n",
    "        keys = x @ self.W_key\n",
    "        queries = x @ self.W_query\n",
    "        values = x @ self.W_value\n",
    "\n",
    "        attn_scores = queries @ keys.T\n",
    "        attn_weights = torch.softmax(attn_scores / (keys.shape[-1]**0.5), dim=-1)\n",
    "        context_vectors = attn_weights @ values\n",
    "        return context_vectors"
   ]
  },
  {
   "cell_type": "code",
   "execution_count": 66,
   "id": "7ce64b59",
   "metadata": {},
   "outputs": [
    {
     "name": "stdout",
     "output_type": "stream",
     "text": [
      "tensor([[0.2996, 0.8053],\n",
      "        [0.3061, 0.8210],\n",
      "        [0.3058, 0.8203],\n",
      "        [0.2948, 0.7939],\n",
      "        [0.2927, 0.7891],\n",
      "        [0.2990, 0.8040]], grad_fn=<MmBackward0>)\n"
     ]
    }
   ],
   "source": [
    "torch.manual_seed(123)\n",
    "self_attn = SelfAttention(d_in, d_out)\n",
    "print(self_attn(inputs))"
   ]
  },
  {
   "cell_type": "markdown",
   "id": "45b09b1f",
   "metadata": {},
   "source": [
    "Previous approach can be improved using linear instaed of parameter\n"
   ]
  },
  {
   "cell_type": "code",
   "execution_count": 67,
   "id": "13afea54",
   "metadata": {},
   "outputs": [],
   "source": [
    "class SelfAttention_final_version(nn.Module):\n",
    "    def __init__(self, d_in, d_out, qkv_bias=False):\n",
    "        super().__init__()\n",
    "        self.W_query = nn.Linear(d_in, d_out, bias=qkv_bias)\n",
    "        self.W_key = nn.Linear(d_in, d_out, bias=qkv_bias)\n",
    "        self.W_value = nn.Linear(d_in, d_out, bias=qkv_bias)\n",
    "\n",
    "    def forward(self, x):\n",
    "        keys = self.W_key(x)\n",
    "        queries = self.W_query(x)\n",
    "        values = self.W_value(x)\n",
    "\n",
    "        attn_scores = queries @ keys.T\n",
    "        attn_weights = torch.softmax(attn_scores / (keys.shape[-1]**0.5), dim=-1)\n",
    "        context_vectors = attn_weights @ values\n",
    "        return context_vectors"
   ]
  },
  {
   "cell_type": "code",
   "execution_count": 68,
   "id": "32744c9d",
   "metadata": {},
   "outputs": [
    {
     "name": "stdout",
     "output_type": "stream",
     "text": [
      "tensor([[-0.0739,  0.0713],\n",
      "        [-0.0748,  0.0703],\n",
      "        [-0.0749,  0.0702],\n",
      "        [-0.0760,  0.0685],\n",
      "        [-0.0763,  0.0679],\n",
      "        [-0.0754,  0.0693]], grad_fn=<MmBackward0>)\n"
     ]
    }
   ],
   "source": [
    "torch.manual_seed(789)\n",
    "self_attn_v2 = SelfAttention_final_version(d_in, d_out)\n",
    "print(self_attn_v2(inputs))"
   ]
  },
  {
   "cell_type": "code",
   "execution_count": 70,
   "id": "4dc50d21",
   "metadata": {},
   "outputs": [
    {
     "name": "stdout",
     "output_type": "stream",
     "text": [
      "tensor([[0.1921, 0.1646, 0.1652, 0.1550, 0.1721, 0.1510],\n",
      "        [0.2041, 0.1659, 0.1662, 0.1496, 0.1665, 0.1477],\n",
      "        [0.2036, 0.1659, 0.1662, 0.1498, 0.1664, 0.1480],\n",
      "        [0.1869, 0.1667, 0.1668, 0.1571, 0.1661, 0.1564],\n",
      "        [0.1830, 0.1669, 0.1670, 0.1588, 0.1658, 0.1585],\n",
      "        [0.1935, 0.1663, 0.1666, 0.1542, 0.1666, 0.1529]],\n",
      "       grad_fn=<SoftmaxBackward0>)\n"
     ]
    }
   ],
   "source": [
    "queries = self_attn_v2.W_query(inputs)\n",
    "keys = self_attn_v2.W_key(inputs)\n",
    "attn_scores = queries @ keys.T\n",
    "attn_weights = torch.softmax(attn_scores / keys.shape[-1]**0.5, dim=1)\n",
    "print(attn_weights)"
   ]
  },
  {
   "cell_type": "markdown",
   "id": "dd4cf9ab",
   "metadata": {},
   "source": [
    "Now let us create a mask where the values above the diagonal are zero"
   ]
  },
  {
   "cell_type": "code",
   "execution_count": 71,
   "id": "cae2c5cc",
   "metadata": {},
   "outputs": [
    {
     "name": "stdout",
     "output_type": "stream",
     "text": [
      "tensor([[1., 0., 0., 0., 0., 0.],\n",
      "        [1., 1., 0., 0., 0., 0.],\n",
      "        [1., 1., 1., 0., 0., 0.],\n",
      "        [1., 1., 1., 1., 0., 0.],\n",
      "        [1., 1., 1., 1., 1., 0.],\n",
      "        [1., 1., 1., 1., 1., 1.]])\n"
     ]
    }
   ],
   "source": [
    "context_length = attn_scores.shape[0]\n",
    "mask = torch.tril(torch.ones(context_length, context_length))\n",
    "print(mask)"
   ]
  },
  {
   "cell_type": "markdown",
   "id": "4d47dfd7",
   "metadata": {},
   "source": [
    "Let us renormalize the weights to sum up to 1"
   ]
  },
  {
   "cell_type": "code",
   "execution_count": 72,
   "id": "cd60f538",
   "metadata": {},
   "outputs": [
    {
     "name": "stdout",
     "output_type": "stream",
     "text": [
      "tensor([[1.0000, 0.0000, 0.0000, 0.0000, 0.0000, 0.0000],\n",
      "        [0.5000, 0.5000, 0.0000, 0.0000, 0.0000, 0.0000],\n",
      "        [0.3333, 0.3333, 0.3333, 0.0000, 0.0000, 0.0000],\n",
      "        [0.2500, 0.2500, 0.2500, 0.2500, 0.0000, 0.0000],\n",
      "        [0.2000, 0.2000, 0.2000, 0.2000, 0.2000, 0.0000],\n",
      "        [0.1667, 0.1667, 0.1667, 0.1667, 0.1667, 0.1667]])\n"
     ]
    }
   ],
   "source": [
    "row_sums = mask.sum(dim=1, keepdim=True)\n",
    "mask_norm = mask / row_sums\n",
    "print(mask_norm)"
   ]
  },
  {
   "cell_type": "markdown",
   "id": "6bc38859",
   "metadata": {},
   "source": [
    "above code may rise to dataleakage instead lets do something efficient"
   ]
  },
  {
   "cell_type": "code",
   "execution_count": 74,
   "id": "a5b7a20f",
   "metadata": {},
   "outputs": [
    {
     "name": "stdout",
     "output_type": "stream",
     "text": [
      "tensor([[ 0.2899,  0.0716,  0.0760, -0.0138,  0.1344, -0.0511],\n",
      "        [ 0.4656,  0.1723,  0.1751,  0.0259,  0.1771,  0.0085],\n",
      "        [ 0.4594,  0.1703,  0.1731,  0.0259,  0.1745,  0.0090],\n",
      "        [ 0.2642,  0.1024,  0.1036,  0.0186,  0.0973,  0.0122],\n",
      "        [ 0.2183,  0.0874,  0.0882,  0.0177,  0.0786,  0.0144],\n",
      "        [ 0.3408,  0.1270,  0.1290,  0.0198,  0.1290,  0.0078]],\n",
      "       grad_fn=<MmBackward0>)\n"
     ]
    }
   ],
   "source": [
    "print(attn_scores)"
   ]
  },
  {
   "cell_type": "code",
   "execution_count": 76,
   "id": "c1a75b71",
   "metadata": {},
   "outputs": [
    {
     "name": "stdout",
     "output_type": "stream",
     "text": [
      "tensor([[0.2899,   -inf,   -inf,   -inf,   -inf,   -inf],\n",
      "        [0.4656, 0.1723,   -inf,   -inf,   -inf,   -inf],\n",
      "        [0.4594, 0.1703, 0.1731,   -inf,   -inf,   -inf],\n",
      "        [0.2642, 0.1024, 0.1036, 0.0186,   -inf,   -inf],\n",
      "        [0.2183, 0.0874, 0.0882, 0.0177, 0.0786,   -inf],\n",
      "        [0.3408, 0.1270, 0.1290, 0.0198, 0.1290, 0.0078]],\n",
      "       grad_fn=<MaskedFillBackward0>)\n"
     ]
    }
   ],
   "source": [
    "maskf = torch.triu(torch.ones(context_length, context_length), diagonal=1)\n",
    "masked = attn_scores.masked_fill(maskf.bool(), -torch.inf)\n",
    "print(masked)"
   ]
  },
  {
   "cell_type": "markdown",
   "id": "a498c389",
   "metadata": {},
   "source": [
    "Now we need to apply the softmax func to these results"
   ]
  },
  {
   "cell_type": "code",
   "execution_count": 77,
   "id": "8ce253da",
   "metadata": {},
   "outputs": [
    {
     "name": "stdout",
     "output_type": "stream",
     "text": [
      "tensor([[1.0000, 0.0000, 0.0000, 0.0000, 0.0000, 0.0000],\n",
      "        [0.5517, 0.4483, 0.0000, 0.0000, 0.0000, 0.0000],\n",
      "        [0.3800, 0.3097, 0.3103, 0.0000, 0.0000, 0.0000],\n",
      "        [0.2758, 0.2460, 0.2462, 0.2319, 0.0000, 0.0000],\n",
      "        [0.2175, 0.1983, 0.1984, 0.1888, 0.1971, 0.0000],\n",
      "        [0.1935, 0.1663, 0.1666, 0.1542, 0.1666, 0.1529]],\n",
      "       grad_fn=<SoftmaxBackward0>)\n"
     ]
    }
   ],
   "source": [
    "attn_weights = torch.softmax(masked / keys.shape[-1]**0.5, dim=1)\n",
    "print(attn_weights)"
   ]
  },
  {
   "cell_type": "markdown",
   "id": "9f882881",
   "metadata": {},
   "source": [
    "Now we will implement dropout technique of about 50% for now later we will try to lower this"
   ]
  },
  {
   "cell_type": "code",
   "execution_count": 80,
   "id": "8c4c373c",
   "metadata": {},
   "outputs": [
    {
     "name": "stdout",
     "output_type": "stream",
     "text": [
      "tensor([[2.0000, 0.0000, 0.0000, 0.0000, 0.0000, 0.0000],\n",
      "        [0.0000, 0.0000, 0.0000, 0.0000, 0.0000, 0.0000],\n",
      "        [0.7599, 0.6194, 0.6206, 0.0000, 0.0000, 0.0000],\n",
      "        [0.0000, 0.4921, 0.4925, 0.0000, 0.0000, 0.0000],\n",
      "        [0.0000, 0.3966, 0.0000, 0.3775, 0.0000, 0.0000],\n",
      "        [0.0000, 0.3327, 0.3331, 0.3084, 0.3331, 0.0000]],\n",
      "       grad_fn=<MulBackward0>)\n"
     ]
    }
   ],
   "source": [
    "torch.manual_seed(123)\n",
    "dropout = nn.Dropout(0.5)\n",
    "print(dropout(attn_weights))"
   ]
  },
  {
   "cell_type": "markdown",
   "id": "b9228384",
   "metadata": {},
   "source": [
    "This is the casual attention and dropout masking mechanism now lets implement a casuatAttention class"
   ]
  },
  {
   "cell_type": "code",
   "execution_count": null,
   "id": "112a9804",
   "metadata": {},
   "outputs": [
    {
     "name": "stdout",
     "output_type": "stream",
     "text": [
      "torch.Size([2, 6, 3])\n"
     ]
    }
   ],
   "source": [
    "#Lets create a batch\n",
    "batch = torch.stack((inputs, inputs), dim=0)\n",
    "print(batch.shape) # each token is a 3D embedding vector"
   ]
  },
  {
   "cell_type": "code",
   "execution_count": 82,
   "id": "dee55c4a",
   "metadata": {},
   "outputs": [],
   "source": [
    "class CasualAttention(nn.Module):\n",
    "    def __init__(self, d_in, d_out, context_length, dropout, qkv_bias = False):\n",
    "        super().__init__()\n",
    "        self.d_out = d_out\n",
    "        self.W_query = nn.Linear(d_in, d_out, bias=qkv_bias)\n",
    "        self.W_key = nn.Linear(d_in, d_out, bias=qkv_bias)\n",
    "        self.W_value = nn.Linear(d_in, d_out, bias=qkv_bias)\n",
    "        self.dropout = nn.Dropout(dropout)\n",
    "        self.register_buffer(\"mask\", torch.triu(torch.ones(context_length, context_length), diagonal=1))\n",
    "\n",
    "    def forward(self, x):\n",
    "        b, num_tokens, d_in = x.shape\n",
    "        keys = self.W_key(x)  \n",
    "        queries = self.W_query(x) \n",
    "        values = self.W_value(x) \n",
    "\n",
    "        attn_scores = queries @ keys.transpose(1, 2)\n",
    "        attn_scores.masked_fill_(self.mask.bool() [:num_tokens, :num_tokens], -torch.inf)\n",
    "        attn_weights = torch.softmax(attn_scores / keys.shape[-1]**0.5, dim=-1)\n",
    "        attn_weights = self.dropout(attn_weights)\n",
    "        context_vectors = attn_weights @ values\n",
    "        return context_vectors\n"
   ]
  },
  {
   "cell_type": "code",
   "execution_count": 83,
   "id": "082a294d",
   "metadata": {},
   "outputs": [
    {
     "name": "stdout",
     "output_type": "stream",
     "text": [
      "torch.Size([2, 6, 2])\n"
     ]
    }
   ],
   "source": [
    "torch.manual_seed(123)\n",
    "context_length = batch.shape[1]\n",
    "ca = CasualAttention(d_in, d_out, context_length, 0.0)\n",
    "context_vectors = ca(batch)\n",
    "print(context_vectors.shape)"
   ]
  },
  {
   "cell_type": "code",
   "execution_count": 84,
   "id": "d572b35d",
   "metadata": {},
   "outputs": [
    {
     "name": "stdout",
     "output_type": "stream",
     "text": [
      "tensor([[[-0.4519,  0.2216],\n",
      "         [-0.5874,  0.0058],\n",
      "         [-0.6300, -0.0632],\n",
      "         [-0.5675, -0.0843],\n",
      "         [-0.5526, -0.0981],\n",
      "         [-0.5299, -0.1081]],\n",
      "\n",
      "        [[-0.4519,  0.2216],\n",
      "         [-0.5874,  0.0058],\n",
      "         [-0.6300, -0.0632],\n",
      "         [-0.5675, -0.0843],\n",
      "         [-0.5526, -0.0981],\n",
      "         [-0.5299, -0.1081]]], grad_fn=<UnsafeViewBackward0>)\n"
     ]
    }
   ],
   "source": [
    "print(context_vectors)"
   ]
  },
  {
   "cell_type": "code",
   "execution_count": null,
   "id": "78b54b0c",
   "metadata": {},
   "outputs": [],
   "source": []
  }
 ],
 "metadata": {
  "kernelspec": {
   "display_name": "llm_tokenizer",
   "language": "python",
   "name": "python3"
  },
  "language_info": {
   "codemirror_mode": {
    "name": "ipython",
    "version": 3
   },
   "file_extension": ".py",
   "mimetype": "text/x-python",
   "name": "python",
   "nbconvert_exporter": "python",
   "pygments_lexer": "ipython3",
   "version": "3.12.3"
  }
 },
 "nbformat": 4,
 "nbformat_minor": 5
}
